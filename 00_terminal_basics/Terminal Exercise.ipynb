{
 "cells": [
  {
   "cell_type": "markdown",
   "id": "68832c6a",
   "metadata": {},
   "source": [
    "# Basic Terminal Exercise\n",
    "\n",
    "Please only use the terminal for practice if not stated otherwise.\n",
    "\n",
    "1. Open the Terminal in your Jupyter Lab at bazelexample/00_terminal_basics\n",
    "\n",
    "2. List the directory content (use `ls`)\n",
    "\n",
    "3. Create a new directory and move the terminal into it (use `mkdir` and `cd`)\n",
    "\n",
    "4. Create a new file called BUILD (use `touch`)\n",
    "\n",
    "5. List the directory and see what you created (use `ls`)\n",
    "\n",
    "6. Switch back to your terminal and view the file content from inside the terminal (use `cat`)\n",
    "\n",
    "7. Remove your created file (use `rm`)\n",
    "\n",
    "8. Change to the parent directory (use `cd ..`)\n",
    "\n",
    "9. Remove your created folder (use `rmdir`)\n",
    "\n",
    "10. Clear the screen to hide what you did (use `clear`)\n",
    "\n",
    "11. Grab a coffee\n"
   ]
  },
  {
   "cell_type": "markdown",
   "id": "d94f7612",
   "metadata": {},
   "source": []
  },
  {
   "cell_type": "code",
   "execution_count": null,
   "id": "079bd7e2",
   "metadata": {},
   "outputs": [],
   "source": []
  },
  {
   "cell_type": "code",
   "execution_count": null,
   "id": "75e9c061",
   "metadata": {},
   "outputs": [],
   "source": []
  }
 ],
 "metadata": {
  "kernelspec": {
   "display_name": "Python 3 (ipykernel)",
   "language": "python",
   "name": "python3"
  },
  "language_info": {
   "codemirror_mode": {
    "name": "ipython",
    "version": 3
   },
   "file_extension": ".py",
   "mimetype": "text/x-python",
   "name": "python",
   "nbconvert_exporter": "python",
   "pygments_lexer": "ipython3",
   "version": "3.7.12"
  }
 },
 "nbformat": 4,
 "nbformat_minor": 5
}
