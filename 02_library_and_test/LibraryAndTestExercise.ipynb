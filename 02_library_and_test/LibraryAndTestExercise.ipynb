{
 "cells": [
  {
   "cell_type": "markdown",
   "id": "745128e6",
   "metadata": {},
   "source": [
    "# Library and Test Bazel Exercise\n",
    "\n",
    "## Dependencies\n",
    "\n",
    "0. Get familar with the current Bazel repository by opening the MODULE.bazel and the BUILD file. Check out what is in there.\n",
    "\n",
    "1. Open up the 02_library_and_test folder in your terminal\n",
    "\n",
    "2. Install bazelisk by running `npm install -g @bazel/bazelisk` if not done already\n",
    "\n",
    "3. Query all target in this project by running `bazelisk query ...`. The 3 dots in this case mean \"everything\"\n",
    "\n",
    "4. Query the dependency of the //:main by running `bazelisk query --noimplicit_deps  \"deps(//:main)\"`\n",
    "\n",
    "5. Open the BUILD File in the librarys Folder \n",
    "\n",
    "6. There are 2 .py files that are not added to the build system yet. Add another py_library target to the BUILD File for converter.py called converter. Watch out for any dependencies this code has and it add to the dependencies. \n",
    "\n",
    "## Testing\n",
    "\n",
    "7. Add a py_test target for converter_test.py. Call it converter_test and add the dependencies this code need. \n",
    "\n",
    "8. Run the test by running `bazelisk run //library:converter_test`\n",
    "\n",
    "9. Test is directly by running `bazelisk test //library:converter_test` and notice the difference compared to the run target.\n",
    "\n",
    "10. Test all test targets in your bazel project by running `bazelisk test //...` "
   ]
  }
 ],
 "metadata": {
  "kernelspec": {
   "display_name": "Python 3 (ipykernel)",
   "language": "python",
   "name": "python3"
  },
  "language_info": {
   "codemirror_mode": {
    "name": "ipython",
    "version": 3
   },
   "file_extension": ".py",
   "mimetype": "text/x-python",
   "name": "python",
   "nbconvert_exporter": "python",
   "pygments_lexer": "ipython3",
   "version": "3.7.12"
  }
 },
 "nbformat": 4,
 "nbformat_minor": 5
}
