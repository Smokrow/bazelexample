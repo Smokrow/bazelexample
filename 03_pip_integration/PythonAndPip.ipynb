{
 "cells": [
  {
   "cell_type": "markdown",
   "id": "221d9a88",
   "metadata": {},
   "source": [
    "# Python and Pip Bazel Exercise\n",
    "\n",
    "## Dependencies\n",
    "\n",
    "0. Get familar with the current Bazel repository by opening the MODULE.bazel and the BUILD file. Check out what is in there.\n",
    "\n",
    "1. Open up the 03_pip_integration folder in your terminal\n",
    "\n",
    "2. Install bazelisk by running `npm install -g @bazel/bazelisk` if not done already\n",
    "\n",
    "3. Generate all targets of the repositry by running `bazelisk query ...`\n",
    "\n",
    "3. Run `bazelisk run //:main`. This script shows which Python und Numpy Version are currently used.\n",
    "\n",
    "4. Open the MODULE.bazel file and downgrade the Python Version to 3.10\n",
    "\n",
    "5. Re-run //:main. Bazel will automatically download the new version and run with the new version. \n",
    "\n",
    "## Pip\n",
    "\n",
    "6. Take a look on your requirement.txt and requirements_lock.txt\n",
    "\n",
    "7. Open the requirements.txt file and downgrade numpy to numpy<2.0\n",
    "\n",
    "8. Regenerate the Pip lock file by running `bazelisk run requirements.update`\n",
    "\n",
    "9. Run `bazelisk run //:main`. This script should show an updated Numpy version.\n",
    "\n",
    "10. Add pandas to your requirements\n",
    "\n",
    "11. Update the Lock file again \n",
    "\n",
    "12. Update your main.py to 'import pandas' \n",
    "\n",
    "13. Update your BUILD file to make :main depend on pandas as well \n",
    "\n",
    "14. Run the :main binary"
   ]
  },
  {
   "cell_type": "markdown",
   "id": "dfdf0e01",
   "metadata": {},
   "source": []
  },
  {
   "cell_type": "code",
   "execution_count": null,
   "id": "19b9a5a7",
   "metadata": {},
   "outputs": [],
   "source": []
  },
  {
   "cell_type": "code",
   "execution_count": null,
   "id": "6ec70535",
   "metadata": {},
   "outputs": [],
   "source": []
  }
 ],
 "metadata": {
  "kernelspec": {
   "display_name": "Python 3 (ipykernel)",
   "language": "python",
   "name": "python3"
  },
  "language_info": {
   "codemirror_mode": {
    "name": "ipython",
    "version": 3
   },
   "file_extension": ".py",
   "mimetype": "text/x-python",
   "name": "python",
   "nbconvert_exporter": "python",
   "pygments_lexer": "ipython3",
   "version": "3.7.12"
  }
 },
 "nbformat": 4,
 "nbformat_minor": 5
}
