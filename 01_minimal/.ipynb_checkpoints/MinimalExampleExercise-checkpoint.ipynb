{
 "cells": [
  {
   "cell_type": "markdown",
   "id": "c0f424c0",
   "metadata": {},
   "source": [
    "# Minimal Bazel Exercise\n",
    "\n",
    "0. Get familar with the current Bazel repository by opening the MODULE.bazel and the BUILD file. Check out what is in there.\n",
    "\n",
    "1. Open up the current 01_minimal folder in your terminal\n",
    "\n",
    "2. Install bazelisk by running `npm install -g @bazel/bazelisk`\n",
    "\n",
    "3. Check if everything works by running `bazelisk run :main` or `bazelisk run //:main`\n",
    "\n",
    "4. Create a new directory and move the terminal into it. Name it however you want.\n",
    "\n",
    "5. Create a new file called BUILD\n",
    "\n",
    "6. Create a new file called main.py and create a simple script that prints something\n",
    "\n",
    "7. Create a new py_binary rule in your freshly created BUILD file and make it target your newly main.py\n",
    "\n",
    "8. Run this target and see if it prints your text. For bonus points run it absolute (//PATH:TARGETNAME) and relative (:TARGETNAME)\n",
    "\n",
    "9. Grab a new coffee"
   ]
  },
  {
   "cell_type": "markdown",
   "id": "dbfb1dea",
   "metadata": {},
   "source": []
  },
  {
   "cell_type": "code",
   "execution_count": null,
   "id": "7cb14892",
   "metadata": {},
   "outputs": [],
   "source": []
  },
  {
   "cell_type": "code",
   "execution_count": null,
   "id": "a894e20f",
   "metadata": {},
   "outputs": [],
   "source": []
  }
 ],
 "metadata": {
  "kernelspec": {
   "display_name": "Python 3 (ipykernel)",
   "language": "python",
   "name": "python3"
  },
  "language_info": {
   "codemirror_mode": {
    "name": "ipython",
    "version": 3
   },
   "file_extension": ".py",
   "mimetype": "text/x-python",
   "name": "python",
   "nbconvert_exporter": "python",
   "pygments_lexer": "ipython3",
   "version": "3.7.12"
  }
 },
 "nbformat": 4,
 "nbformat_minor": 5
}
